{
 "cells": [
  {
   "cell_type": "code",
   "execution_count": null,
   "metadata": {
    "ExecuteTime": {
     "end_time": "2023-11-14T00:52:13.766748400Z",
     "start_time": "2023-11-14T00:52:13.736025500Z"
    }
   },
   "outputs": [],
   "source": [
    "#if the pymysql not installed yet, it should be installed\n",
    "#pip install pymysql"
   ]
  },
  {
   "cell_type": "code",
   "execution_count": 1,
   "metadata": {
    "is_executing": true
   },
   "outputs": [
    {
     "name": "stdout",
     "output_type": "stream",
     "text": [
      "Enter username: root\n",
      "Enter password: P0321\n",
      "\n",
      "Available genre_name:\n",
      "Rock\n",
      "Pop\n",
      "Jazz\n",
      "Hip Hop\n",
      "Country\n",
      "Heavy Metal\n",
      "Classical\n",
      "Latin pop\n",
      "\n",
      "Please enter one genre or enter 'exit' to exit: Rock\n",
      "\n",
      "Result set of song_has_genre:\n",
      "{'sid': 5, 'song_name': 'Overload', 'album_name': 'Prologue'}\n",
      "{'sid': 11, 'song_name': 'didya think', 'album_name': 'Wait'}\n",
      "{'sid': 15, 'song_name': 'Happy Together', 'album_name': 'Happy Together'}\n",
      "\n",
      "Please enter one genre or enter 'exit' to exit: exit\n"
     ]
    }
   ],
   "source": [
    "import pymysql\n",
    "genre_list = []\n",
    "genre_name = \"\"\n",
    "# 1) (10 points) Prompt the user for the MySQL username and password.\n",
    "username = input(\"Enter username: \")\n",
    "password = input(\"Enter password: \")\n",
    "\n",
    "# 2) (10 points) Use the user provided username and password values to connect to the Music database\n",
    "#                you modified in homework seven.\n",
    "try:\n",
    "    connection = pymysql.connect(\n",
    "        host='localhost',\n",
    "        user=username,\n",
    "        password=password,\n",
    "        db='music1_db', \n",
    "        charset='utf8mb4',\n",
    "        cursorclass=pymysql.cursors.DictCursor\n",
    "    )\n",
    "    cursor = connection.cursor()\n",
    "# MYSQL operations\n",
    "    try:\n",
    "        cursor.execute(\"SELECT genre_name FROM genres\")\n",
    "        result = cursor.fetchall()\n",
    "        print(\"\")\n",
    "        print(\"Available genre_name:\")\n",
    "# 4) (20 points) Have your application code do data validation on the input provided by the user. \n",
    "        for genre in result:\n",
    "            genre_list.append(genre['genre_name'])\n",
    "            print(genre['genre_name'])\n",
    "        while True:\n",
    "            print(\"\")\n",
    "# 3) (10 points) Prompt the user to enter a particular music genre. Store the result in a host language variable.\n",
    "            genre_name = input(\"Please enter one genre or enter 'exit' to exit: \")\n",
    "            if genre_name == 'exit':\n",
    "                break\n",
    "# 4) continued, verification section\n",
    "# 5) (10 points) Generate an error message to standard output and re-prompt the user for input, \n",
    "#                if the user provides invalid input.\n",
    "            if (genre_name not in genre_list):\n",
    "                print(\"Invalid genre name, please retry.\")\n",
    "# 6) (20 points) Use the genre as an argument to the song_has_genre(genre_p) . Call the procedure.\n",
    "            if genre_name != \"\" and genre_name in genre_list:\n",
    "                cursor.callproc(\"song_has_genre\", (genre_name,))\n",
    "                result_set = cursor.fetchall()\n",
    "                print(\"\")\n",
    "                print(\"Result set of song_has_genre:\")\n",
    "# 7) (15 points) Print the result set of song_has_genre() to standard output.\n",
    "                for genre in result_set:\n",
    "                    print(genre)\n",
    "    except pymysql.Error as e:\n",
    "        print(\"MYSQL operation error\")\n",
    "    finally:cursor.close()\n",
    "\n",
    "# 8) (5 points) Once the records are written to standard output, close the connection to the database\n",
    "#               and end the application program.\n",
    "\n",
    "except pymysql.Error as e:\n",
    "    print(\"Connection fail\")\n",
    "    \n",
    "finally:\n",
    "    connection.close()"
   ]
  },
  {
   "cell_type": "code",
   "execution_count": null,
   "metadata": {},
   "outputs": [],
   "source": []
  }
 ],
 "metadata": {
  "kernelspec": {
   "display_name": "Python 3",
   "language": "python",
   "name": "python3"
  },
  "language_info": {
   "codemirror_mode": {
    "name": "ipython",
    "version": 3
   },
   "file_extension": ".py",
   "mimetype": "text/x-python",
   "name": "python",
   "nbconvert_exporter": "python",
   "pygments_lexer": "ipython3",
   "version": "3.8.5"
  }
 },
 "nbformat": 4,
 "nbformat_minor": 2
}
